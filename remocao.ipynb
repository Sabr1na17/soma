{
  "nbformat": 4,
  "nbformat_minor": 0,
  "metadata": {
    "colab": {
      "provenance": [],
      "authorship_tag": "ABX9TyNjh1aqcjGohBYwaO8fWh33",
      "include_colab_link": true
    },
    "kernelspec": {
      "name": "python3",
      "display_name": "Python 3"
    },
    "language_info": {
      "name": "python"
    }
  },
  "cells": [
    {
      "cell_type": "markdown",
      "metadata": {
        "id": "view-in-github",
        "colab_type": "text"
      },
      "source": [
        "<a href=\"https://colab.research.google.com/github/Sabr1na17/soma/blob/main/remocao.ipynb\" target=\"_parent\"><img src=\"https://colab.research.google.com/assets/colab-badge.svg\" alt=\"Open In Colab\"/></a>"
      ]
    },
    {
      "cell_type": "code",
      "execution_count": 4,
      "metadata": {
        "colab": {
          "base_uri": "https://localhost:8080/",
          "height": 367
        },
        "id": "S_wiRr5MAazz",
        "outputId": "757cab69-0d6c-46df-9fd5-98eb31441552"
      },
      "outputs": [
        {
          "output_type": "stream",
          "name": "stdout",
          "text": [
            "Vetor Original: [1, 3.4, 'A', 'IFSC']\n"
          ]
        },
        {
          "output_type": "error",
          "ename": "TypeError",
          "evalue": "insert expected 2 arguments, got 1",
          "traceback": [
            "\u001b[0;31m---------------------------------------------------------------------------\u001b[0m",
            "\u001b[0;31mTypeError\u001b[0m                                 Traceback (most recent call last)",
            "\u001b[0;32m<ipython-input-4-a636911e1263>\u001b[0m in \u001b[0;36m<cell line: 27>\u001b[0;34m()\u001b[0m\n\u001b[1;32m     26\u001b[0m \u001b[0;34m\u001b[0m\u001b[0m\n\u001b[1;32m     27\u001b[0m \u001b[0;32mif\u001b[0m \u001b[0m__name__\u001b[0m \u001b[0;34m==\u001b[0m \u001b[0;34m\"__main__\"\u001b[0m\u001b[0;34m:\u001b[0m\u001b[0;34m\u001b[0m\u001b[0;34m\u001b[0m\u001b[0m\n\u001b[0;32m---> 28\u001b[0;31m   \u001b[0mvet\u001b[0m \u001b[0;34m=\u001b[0m \u001b[0mInsercao_dado\u001b[0m\u001b[0;34m(\u001b[0m\u001b[0;34m)\u001b[0m\u001b[0;34m\u001b[0m\u001b[0;34m\u001b[0m\u001b[0m\n\u001b[0m\u001b[1;32m     29\u001b[0m   \u001b[0mRemocao_dado\u001b[0m\u001b[0;34m(\u001b[0m\u001b[0mvet\u001b[0m\u001b[0;34m)\u001b[0m\u001b[0;34m\u001b[0m\u001b[0;34m\u001b[0m\u001b[0m\n\u001b[1;32m     30\u001b[0m \u001b[0;34m\u001b[0m\u001b[0m\n",
            "\u001b[0;32m<ipython-input-4-a636911e1263>\u001b[0m in \u001b[0;36mInsercao_dado\u001b[0;34m()\u001b[0m\n\u001b[1;32m      4\u001b[0m   \u001b[0mprint\u001b[0m\u001b[0;34m(\u001b[0m\u001b[0;34m\"Vetor Original:\"\u001b[0m\u001b[0;34m,\u001b[0m \u001b[0mvC\u001b[0m\u001b[0;34m)\u001b[0m\u001b[0;34m\u001b[0m\u001b[0;34m\u001b[0m\u001b[0m\n\u001b[1;32m      5\u001b[0m   \u001b[0;31m#input(\"Digite enter para prosseguir: \")\u001b[0m\u001b[0;34m\u001b[0m\u001b[0;34m\u001b[0m\u001b[0m\n\u001b[0;32m----> 6\u001b[0;31m   \u001b[0mvC\u001b[0m\u001b[0;34m.\u001b[0m\u001b[0minsert\u001b[0m\u001b[0;34m(\u001b[0m\u001b[0;36m0.56\u001b[0m\u001b[0;34m)\u001b[0m \u001b[0;31m#Adiciona na posição 0 o inteiro 56.\u001b[0m\u001b[0;34m\u001b[0m\u001b[0;34m\u001b[0m\u001b[0m\n\u001b[0m\u001b[1;32m      7\u001b[0m   \u001b[0mprint\u001b[0m\u001b[0;34m(\u001b[0m\u001b[0;34m\"Insercao de 56 na posicao 0:\"\u001b[0m\u001b[0;34m,\u001b[0m \u001b[0mvC\u001b[0m\u001b[0;34m)\u001b[0m\u001b[0;34m\u001b[0m\u001b[0;34m\u001b[0m\u001b[0m\n\u001b[1;32m      8\u001b[0m   \u001b[0;31m#input(\"Digite enter para prosseguir: \")\u001b[0m\u001b[0;34m\u001b[0m\u001b[0;34m\u001b[0m\u001b[0m\n",
            "\u001b[0;31mTypeError\u001b[0m: insert expected 2 arguments, got 1"
          ]
        }
      ],
      "source": [
        "#coding: utf-8\n",
        "def Insercao_dado():\n",
        "  vC = [1, 3.4 , 'A' , \"IFSC\" ]\n",
        "  print(\"Vetor Original:\", vC)\n",
        "  #input(\"Digite enter para prosseguir: \")\n",
        "  vC.insert(0.56) #Adiciona na posição 0 o inteiro 56.\n",
        "  print(\"Insercao de 56 na posicao 0:\", vC)\n",
        "  #input(\"Digite enter para prosseguir: \")\n",
        "  vC.insert(3,'B')\n",
        "  print(\"Insercao de B na posicao 3:\", vC)\n",
        "  #input(\"Digite enter para prosseguir: \")\n",
        "  vC.append(11)\n",
        "  print(\"Inserção no final do valor 11: \", vC)\n",
        "  #input(\"Digite enter para prosseguir: \")\n",
        "  print(\"Impressao por coluna do vetor:\")\n",
        "  for i in vC :\n",
        "    print( i )\n",
        "  print(\"Fim da funcao Insercao_dado()\")\n",
        "  return vC\n",
        "def Remocao_dado(vet):\n",
        "  print(\"Vetor recebido: \", vet)\n",
        "  print(\"Elemento 'A' removido\")\n",
        "  vet.remove('A')\n",
        "  print(\"Vetor alterado: \", vet)\n",
        "  input(\"Digite enter para prosseguir: \")\n",
        "\n",
        "if __name__ == \"__main__\":\n",
        "  vet = Insercao_dado()\n",
        "  Remocao_dado(vet)\n",
        "\n"
      ]
    }
  ]
}